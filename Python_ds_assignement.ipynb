{
  "nbformat": 4,
  "nbformat_minor": 0,
  "metadata": {
    "colab": {
      "provenance": []
    },
    "kernelspec": {
      "name": "python3",
      "display_name": "Python 3"
    },
    "language_info": {
      "name": "python"
    }
  },
  "cells": [
    {
      "cell_type": "markdown",
      "source": [
        "# Python Data structure"
      ],
      "metadata": {
        "id": "0hIWxDNUhsvL"
      }
    },
    {
      "cell_type": "markdown",
      "source": [
        "1. What are data structures, and why are they important?"
      ],
      "metadata": {
        "id": "k-I2p4qpiLpa"
      }
    },
    {
      "cell_type": "markdown",
      "source": [
        "Ans-->> Data structures are ways to organize and store data efficiently. They are crucial because they enable optimal data access, modification, and management, helping in problem-solving and building scalable applications."
      ],
      "metadata": {
        "id": "zX2oxtzSiUmj"
      }
    },
    {
      "cell_type": "markdown",
      "source": [
        "2.  Explain the difference between mutable and immutable data types with examplesP"
      ],
      "metadata": {
        "id": "0bmk6qt6ibWh"
      }
    },
    {
      "cell_type": "markdown",
      "source": [
        "Ans-->> 1. Mutable: Can be changed after creation (e.g., list, dict, set)."
      ],
      "metadata": {
        "id": "WFegnOAMifzx"
      }
    },
    {
      "cell_type": "code",
      "source": [
        "lst = [1, 2]; lst[0] = 9  # Valid\n"
      ],
      "metadata": {
        "id": "fn2YCjTIinEq"
      },
      "execution_count": null,
      "outputs": []
    },
    {
      "cell_type": "markdown",
      "source": [
        "2. Immutable: Cannot be changed after creation (e.g., int, str, tuple)."
      ],
      "metadata": {
        "id": "LyRhVrKKivAs"
      }
    },
    {
      "cell_type": "code",
      "execution_count": null,
      "metadata": {
        "id": "r2Z0sAzOhkZR"
      },
      "outputs": [],
      "source": [
        "s = \"hello\"; s[0] = 'H'  # Error\n"
      ]
    },
    {
      "cell_type": "markdown",
      "source": [
        "3. What are the main differences between lists and tuples in Python?"
      ],
      "metadata": {
        "id": "IWMuJ9dKi2YN"
      }
    },
    {
      "cell_type": "markdown",
      "source": [
        "Ans-->>\n",
        "In Python, lists and tuples are both used to store collections of items, but they differ in several key aspects:\n",
        "\n",
        "*   Mutability: Lists are mutable, meaning their elements can be changed, added, or removed after creation. Tuples are immutable, so once created, their elements cannot be altered.\n",
        "*   Syntax: Lists use square brackets [ ], while tuples use parentheses ( ).\n",
        "\n",
        "\n",
        "*   Performance: Tuples are generally faster than lists due to their immutability and fixed size.\n",
        "*  Use Case: Use a list when the data is expected to change (e.g., a shopping cart). Use a tuple when the data should remain constant (e.g., GPS coordinates or configuration settings).\n",
        "\n",
        "\n",
        "\n",
        "\n",
        "\n",
        "\n",
        "\n"
      ],
      "metadata": {
        "id": "8of9lrh8jCHV"
      }
    },
    {
      "cell_type": "markdown",
      "source": [
        "4.  Describe how dictionaries store data ?\n"
      ],
      "metadata": {
        "id": "RQcz4lXajmaZ"
      }
    },
    {
      "cell_type": "markdown",
      "source": [
        "Ans-->> Dictionaries store data as key-value pairs using a hash table internally. Each key is hashed to determine its index in memory."
      ],
      "metadata": {
        "id": "_IA5e0Ogkhys"
      }
    },
    {
      "cell_type": "markdown",
      "source": [
        "5. Why might you use a set instead of a list in Python?"
      ],
      "metadata": {
        "id": "YrRtWpfwkopT"
      }
    },
    {
      "cell_type": "markdown",
      "source": [
        "Ans-->>  *   Automatically remove duplicates\n",
        "*   Offer faster lookup (O(1) vs O(n) in lists)\n",
        "\n"
      ],
      "metadata": {
        "id": "NSYi9qJUktbk"
      }
    },
    {
      "cell_type": "markdown",
      "source": [
        "6. What is a string in Python, and how is it different from a list?"
      ],
      "metadata": {
        "id": "uhBKojBpk3a9"
      }
    },
    {
      "cell_type": "markdown",
      "source": [
        "Ans--> A string is an immutable sequence of Unicode characters.\n",
        "Differences:\n",
        "\n",
        "*   Strings are immutable; lists are mutable.\n",
        "*    Strings are specialized for text; lists can hold any type.\n"
      ],
      "metadata": {
        "id": "i_7kpMOilH2W"
      }
    },
    {
      "cell_type": "markdown",
      "source": [
        "7. How do tuples ensure data integrity in Python ?"
      ],
      "metadata": {
        "id": "mJyOMJH0lW1A"
      }
    },
    {
      "cell_type": "markdown",
      "source": [
        "Ans-->> Tuples are immutable, meaning data can’t be altered after creation. This protects data from accidental changes."
      ],
      "metadata": {
        "id": "MOVmj6ZKleaG"
      }
    },
    {
      "cell_type": "markdown",
      "source": [
        "8. What is a hash table, and how does it relate to dictionaries in Python?"
      ],
      "metadata": {
        "id": "KC2Epx3slj19"
      }
    },
    {
      "cell_type": "markdown",
      "source": [
        "Ans-->> A hash table maps keys to values using a hash function. Python’s dict uses a hash table for fast lookup, insertion, and deletion."
      ],
      "metadata": {
        "id": "BE0gxfvolpDV"
      }
    },
    {
      "cell_type": "markdown",
      "source": [
        "9. Can lists contain different data types in Python ?"
      ],
      "metadata": {
        "id": "U6G3cVnrlufU"
      }
    },
    {
      "cell_type": "markdown",
      "source": [
        "Ans-->> Yes. Python lists are heterogeneous:\n"
      ],
      "metadata": {
        "id": "SAUHXMxalzSF"
      }
    },
    {
      "cell_type": "code",
      "source": [
        "mixed = [1, \"hello\", True, 3.14]\n"
      ],
      "metadata": {
        "id": "Tv-AKbaFl7xw"
      },
      "execution_count": null,
      "outputs": []
    },
    {
      "cell_type": "markdown",
      "source": [
        "10.  Explain why strings are immutable in Python ?"
      ],
      "metadata": {
        "id": "bv8dbE_Gl-jl"
      }
    },
    {
      "cell_type": "markdown",
      "source": [
        "Ans-->> Immutability makes strings thread-safe and allows Python to optimize memory usage via string interning.\n",
        "\n"
      ],
      "metadata": {
        "id": "RWqwh6-mmEmd"
      }
    },
    {
      "cell_type": "markdown",
      "source": [
        "11. What advantages do dictionaries offer over lists for certain tasks ?\n"
      ],
      "metadata": {
        "id": "Fa0pqgTtmK7L"
      }
    },
    {
      "cell_type": "markdown",
      "source": [
        "Ans-->>\n",
        "\n",
        "*   Faster lookups (O(1))\n",
        "*    Key-based access\n",
        "\n",
        "*  Useful for storing structured data (like records)\n",
        "\n",
        "\n"
      ],
      "metadata": {
        "id": "sfoTISqkmPvg"
      }
    },
    {
      "cell_type": "markdown",
      "source": [
        "12. Describe a scenario where using a tuple would be preferable over a list"
      ],
      "metadata": {
        "id": "lFhEf_xKmmM1"
      }
    },
    {
      "cell_type": "markdown",
      "source": [
        "Ans-->>\n",
        "\n",
        "*  A fixed collection (e.g., coordinates: (x, y))\n",
        "*  To use data as a dictionary key\n",
        "\n",
        "*  To ensure no accidental modification\n",
        "\n",
        "\n",
        "\n",
        "\n"
      ],
      "metadata": {
        "id": "eQsWEeEmmrKL"
      }
    },
    {
      "cell_type": "markdown",
      "source": [
        "13. How do sets handle duplicate values in Python"
      ],
      "metadata": {
        "id": "wxMJlaLbnFUW"
      }
    },
    {
      "cell_type": "markdown",
      "source": [
        "Ans-->> Sets automatically discard duplicates:"
      ],
      "metadata": {
        "id": "YpVeNLJpnK7-"
      }
    },
    {
      "cell_type": "code",
      "source": [
        "s = {1, 2, 2, 3}  # Result: {1, 2, 3}\n"
      ],
      "metadata": {
        "id": "-uMpZN2WnTDg"
      },
      "execution_count": null,
      "outputs": []
    },
    {
      "cell_type": "markdown",
      "source": [
        "14. How does the “in” keyword work differently for lists and dictionaries"
      ],
      "metadata": {
        "id": "qT-JaI19nU6V"
      }
    },
    {
      "cell_type": "markdown",
      "source": [
        "Ans-->>\n",
        "\n",
        "*   List: Checks if value exists (O(n))\n",
        "* Dict: Checks if key exists (O(1))\n"
      ],
      "metadata": {
        "id": "Y_X-cZ6HnZnQ"
      }
    },
    {
      "cell_type": "markdown",
      "source": [
        "15. Can you modify the elements of a tuple? Explain why or why not"
      ],
      "metadata": {
        "id": "auapU694nnvV"
      }
    },
    {
      "cell_type": "markdown",
      "source": [
        "Ans-->> No. Tuples are immutable; their contents cannot be changed after creation."
      ],
      "metadata": {
        "id": "T4KF5fnKnqyS"
      }
    },
    {
      "cell_type": "markdown",
      "source": [
        "16. What is a nested dictionary, and give an example of its use case"
      ],
      "metadata": {
        "id": "TyZJm7yknxAc"
      }
    },
    {
      "cell_type": "markdown",
      "source": [
        "Ans-->> A dictionary inside another dictionary.\n",
        "Useful for structured data:"
      ],
      "metadata": {
        "id": "ojaKKlX5n02H"
      }
    },
    {
      "cell_type": "code",
      "source": [
        "student = {\n",
        "  \"name\": \"Adarsh\",\n",
        "  \"marks\": {\"math\": 90, \"science\": 85}\n",
        "}\n"
      ],
      "metadata": {
        "id": "sFXk_82Kn6Af"
      },
      "execution_count": 1,
      "outputs": []
    },
    {
      "cell_type": "markdown",
      "source": [
        "17. Describe the time complexity of accessing elements in a dictionary."
      ],
      "metadata": {
        "id": "5RfsgwMDoCBq"
      }
    },
    {
      "cell_type": "markdown",
      "source": [
        "Ans-->>Average-case: O(1) (due to hash table)\n",
        "Worst-case: O(n) (very rare, due to collisions)"
      ],
      "metadata": {
        "id": "-K03m9KroFc6"
      }
    },
    {
      "cell_type": "markdown",
      "source": [
        "18. In what situations are lists preferred over dictionaries?"
      ],
      "metadata": {
        "id": "EFLW1KpzoXlb"
      }
    },
    {
      "cell_type": "markdown",
      "source": [
        "Ans-->>\n",
        "\n",
        "*   When order matters\n",
        "*   When data doesn’t require key-based access\n",
        "\n",
        "*  For simple sequential data (e.g., a to-do list)\n",
        "\n",
        "\n",
        "\n",
        "\n"
      ],
      "metadata": {
        "id": "lB8vw_pQobLP"
      }
    },
    {
      "cell_type": "markdown",
      "source": [
        "19. Why are dictionaries considered unordered, and how does that affect data retrieval?"
      ],
      "metadata": {
        "id": "_yH3JnHlotJX"
      }
    },
    {
      "cell_type": "markdown",
      "source": [
        "Ans-->> Pre-Python 3.7, dict did not preserve insertion order. Since 3.7, it does preserve order, but key access is still based on hashing, not position."
      ],
      "metadata": {
        "id": "RBCFffe5oxHg"
      }
    },
    {
      "cell_type": "markdown",
      "source": [
        "20. Explain the difference between a list and a dictionary in terms of data retrieval."
      ],
      "metadata": {
        "id": "QAi9SXwUo1M4"
      }
    },
    {
      "cell_type": "markdown",
      "source": [
        "Ans-->>\n",
        "\n",
        "*   List: Retrieve by index (list[0])\n",
        "*  Dictionary: Retrieve by key (dict[\"name\"])\n",
        "\n"
      ],
      "metadata": {
        "id": "MaRXyXK_o4j7"
      }
    },
    {
      "cell_type": "markdown",
      "source": [
        "# Practical questions--"
      ],
      "metadata": {
        "id": "JKx3lYEopDXw"
      }
    },
    {
      "cell_type": "markdown",
      "source": [
        "1. Write a code to create a string with your name and print it\n",
        "\n"
      ],
      "metadata": {
        "id": "uG3WAwCZpUrz"
      }
    },
    {
      "cell_type": "markdown",
      "source": [
        "Ans--->>"
      ],
      "metadata": {
        "id": "4UwW6sLgpg4J"
      }
    },
    {
      "cell_type": "code",
      "source": [
        "name = \"Adarsh Patidar\"\n",
        "print(name)\n"
      ],
      "metadata": {
        "colab": {
          "base_uri": "https://localhost:8080/"
        },
        "id": "tfl6y68spdi1",
        "outputId": "9347c584-b328-43b3-a67e-05b6968b72ca"
      },
      "execution_count": 2,
      "outputs": [
        {
          "output_type": "stream",
          "name": "stdout",
          "text": [
            "Adarsh Patidar\n"
          ]
        }
      ]
    },
    {
      "cell_type": "markdown",
      "source": [
        "2. Write a code to find the length of the string \"Hello World\""
      ],
      "metadata": {
        "id": "UiiQiXTTpj7g"
      }
    },
    {
      "cell_type": "markdown",
      "source": [
        "Ans--->>"
      ],
      "metadata": {
        "id": "fVWE-CFUpnls"
      }
    },
    {
      "cell_type": "code",
      "source": [
        "text = \"Hello World\"\n",
        "print(len(text))\n"
      ],
      "metadata": {
        "colab": {
          "base_uri": "https://localhost:8080/"
        },
        "id": "Jpza99QjppnT",
        "outputId": "d463ba59-3c20-4888-ddc0-c3b7ce423e65"
      },
      "execution_count": 4,
      "outputs": [
        {
          "output_type": "stream",
          "name": "stdout",
          "text": [
            "11\n"
          ]
        }
      ]
    },
    {
      "cell_type": "markdown",
      "source": [
        "3. Write a code to slice the first 3 characters from the string \"Python Programming\""
      ],
      "metadata": {
        "id": "-_jGYGMVpsLI"
      }
    },
    {
      "cell_type": "markdown",
      "source": [
        "Ans--->>"
      ],
      "metadata": {
        "id": "jsThd47wpv2d"
      }
    },
    {
      "cell_type": "code",
      "source": [
        "s = \"Python Programming\"\n",
        "print(s[:3])  # Output: Pyt\n"
      ],
      "metadata": {
        "colab": {
          "base_uri": "https://localhost:8080/"
        },
        "id": "2iZjSqLxpzFs",
        "outputId": "dc1b57b1-a1a2-4ebd-9f80-a7758505d9eb"
      },
      "execution_count": 3,
      "outputs": [
        {
          "output_type": "stream",
          "name": "stdout",
          "text": [
            "Pyt\n"
          ]
        }
      ]
    },
    {
      "cell_type": "markdown",
      "source": [
        "4. Write a code to convert the string \"hello\" to uppercase"
      ],
      "metadata": {
        "id": "KSJWTL3rp5KD"
      }
    },
    {
      "cell_type": "markdown",
      "source": [
        "Ans--->>"
      ],
      "metadata": {
        "id": "KyFMSl1jp8pc"
      }
    },
    {
      "cell_type": "code",
      "source": [
        "s = \"hello\"\n",
        "print(s.upper())  # Output: HELLO\n"
      ],
      "metadata": {
        "colab": {
          "base_uri": "https://localhost:8080/"
        },
        "id": "k_M1HsR2p-mw",
        "outputId": "606d3294-423f-4390-b5ee-223a0c4258a4"
      },
      "execution_count": 5,
      "outputs": [
        {
          "output_type": "stream",
          "name": "stdout",
          "text": [
            "HELLO\n"
          ]
        }
      ]
    },
    {
      "cell_type": "markdown",
      "source": [
        "5. Write a code to replace the word \"apple\" with \"orange\" in the string \"I like apple\""
      ],
      "metadata": {
        "id": "_QCQOt6UqBK7"
      }
    },
    {
      "cell_type": "markdown",
      "source": [
        "Ans--->>"
      ],
      "metadata": {
        "id": "6F0jFrZ-qEIb"
      }
    },
    {
      "cell_type": "code",
      "source": [
        "sentence = \"I like apple\"\n",
        "print(sentence.replace(\"apple\", \"orange\"))  # Output: I like orange\n"
      ],
      "metadata": {
        "colab": {
          "base_uri": "https://localhost:8080/"
        },
        "id": "-o5zLpBXqFfI",
        "outputId": "f861f719-ecb9-49a1-e630-a2dd261e158a"
      },
      "execution_count": 6,
      "outputs": [
        {
          "output_type": "stream",
          "name": "stdout",
          "text": [
            "I like orange\n"
          ]
        }
      ]
    },
    {
      "cell_type": "markdown",
      "source": [
        "6. Write a code to create a list with numbers 1 to 5 and print it"
      ],
      "metadata": {
        "id": "Be7Q2ErXqLfz"
      }
    },
    {
      "cell_type": "markdown",
      "source": [
        "Ans--->>"
      ],
      "metadata": {
        "id": "SU0emaYcqPbz"
      }
    },
    {
      "cell_type": "code",
      "source": [
        "numbers = [1, 2, 3, 4, 5]\n",
        "print(numbers)\n"
      ],
      "metadata": {
        "colab": {
          "base_uri": "https://localhost:8080/"
        },
        "id": "2UT1lhMvqR1a",
        "outputId": "640f690c-1831-4bb4-d496-21173fc092c6"
      },
      "execution_count": 7,
      "outputs": [
        {
          "output_type": "stream",
          "name": "stdout",
          "text": [
            "[1, 2, 3, 4, 5]\n"
          ]
        }
      ]
    },
    {
      "cell_type": "markdown",
      "source": [
        "7. Write a code to append the number 10 to the list [1, 2, 3, 4]"
      ],
      "metadata": {
        "id": "Q_1-BozNqV3r"
      }
    },
    {
      "cell_type": "markdown",
      "source": [
        "Ans--->>"
      ],
      "metadata": {
        "id": "shpPq1xZqanG"
      }
    },
    {
      "cell_type": "code",
      "source": [
        "lst = [1, 2, 3, 4]\n",
        "lst.append(10)\n",
        "print(lst)  # Output: [1, 2, 3, 4, 10]\n"
      ],
      "metadata": {
        "colab": {
          "base_uri": "https://localhost:8080/"
        },
        "id": "wiXk-t_yqc41",
        "outputId": "b6be863f-3f36-4f01-eff5-9a7267a9df8f"
      },
      "execution_count": 8,
      "outputs": [
        {
          "output_type": "stream",
          "name": "stdout",
          "text": [
            "[1, 2, 3, 4, 10]\n"
          ]
        }
      ]
    },
    {
      "cell_type": "markdown",
      "source": [
        "8. Write a code to remove the number 3 from the list [1, 2, 3, 4, 5]"
      ],
      "metadata": {
        "id": "9oUSrGbHqfY3"
      }
    },
    {
      "cell_type": "markdown",
      "source": [
        "Ans--->>"
      ],
      "metadata": {
        "id": "-DY5OGGAqibw"
      }
    },
    {
      "cell_type": "code",
      "source": [
        "lst = [1, 2, 3, 4, 5]\n",
        "lst.remove(3)\n",
        "print(lst)  # Output: [1, 2, 4, 5]\n"
      ],
      "metadata": {
        "colab": {
          "base_uri": "https://localhost:8080/"
        },
        "id": "5pgM7dgzqj8q",
        "outputId": "a5dbd4e2-beb9-4cf2-b81d-639438718a33"
      },
      "execution_count": 9,
      "outputs": [
        {
          "output_type": "stream",
          "name": "stdout",
          "text": [
            "[1, 2, 4, 5]\n"
          ]
        }
      ]
    },
    {
      "cell_type": "markdown",
      "source": [
        "9. Write a code to access the second element in the list ['a', 'b', 'c', 'd']"
      ],
      "metadata": {
        "id": "c7wGfFdQqnu_"
      }
    },
    {
      "cell_type": "markdown",
      "source": [
        "Ans-->>"
      ],
      "metadata": {
        "id": "A-pLyDSKqreZ"
      }
    },
    {
      "cell_type": "code",
      "source": [
        "chars = ['a', 'b', 'c', 'd']\n",
        "print(chars[1])  # Output: b\n"
      ],
      "metadata": {
        "colab": {
          "base_uri": "https://localhost:8080/"
        },
        "id": "Lh7BKcppqtnC",
        "outputId": "1f0cc411-c308-4046-9b7e-003df90fe956"
      },
      "execution_count": 10,
      "outputs": [
        {
          "output_type": "stream",
          "name": "stdout",
          "text": [
            "b\n"
          ]
        }
      ]
    },
    {
      "cell_type": "markdown",
      "source": [
        "10. Write a code to reverse the list [10, 20, 30, 40, 50]"
      ],
      "metadata": {
        "id": "cqdvtIHwqx-y"
      }
    },
    {
      "cell_type": "markdown",
      "source": [
        "Ans--->>"
      ],
      "metadata": {
        "id": "DE00o_5Eq1SQ"
      }
    },
    {
      "cell_type": "code",
      "source": [
        "lst = [10, 20, 30, 40, 50]\n",
        "lst.reverse()\n",
        "print(lst)  # Output: [50, 40, 30, 20, 10]\n"
      ],
      "metadata": {
        "colab": {
          "base_uri": "https://localhost:8080/"
        },
        "id": "JLDT-yWbq3i3",
        "outputId": "1c619aef-155b-4757-c8d5-55ef04aa3817"
      },
      "execution_count": 11,
      "outputs": [
        {
          "output_type": "stream",
          "name": "stdout",
          "text": [
            "[50, 40, 30, 20, 10]\n"
          ]
        }
      ]
    },
    {
      "cell_type": "markdown",
      "source": [
        "11. Create a tuple with the elements 100, 200, 300 and print it\n",
        "\n",
        "\n"
      ],
      "metadata": {
        "id": "LilBrkUpq67t"
      }
    },
    {
      "cell_type": "markdown",
      "source": [
        "Ans-->>"
      ],
      "metadata": {
        "id": "FJ5omX2QrMLz"
      }
    },
    {
      "cell_type": "code",
      "source": [
        "t = (100, 200, 300)\n",
        "print(t)\n"
      ],
      "metadata": {
        "colab": {
          "base_uri": "https://localhost:8080/"
        },
        "id": "vte8b5bOrN2T",
        "outputId": "df224176-7d8f-49cd-ad23-38e3f5fc7de1"
      },
      "execution_count": 12,
      "outputs": [
        {
          "output_type": "stream",
          "name": "stdout",
          "text": [
            "(100, 200, 300)\n"
          ]
        }
      ]
    },
    {
      "cell_type": "markdown",
      "source": [
        "12. Access the second-to-last element of the tuple ('red', 'green', 'blue', 'yellow')"
      ],
      "metadata": {
        "id": "LvP8avmzrQYK"
      }
    },
    {
      "cell_type": "markdown",
      "source": [
        "Ans-->>"
      ],
      "metadata": {
        "id": "dTMSf7BerUqW"
      }
    },
    {
      "cell_type": "code",
      "source": [
        "colors = ('red', 'green', 'blue', 'yellow')\n",
        "print(colors[-2])  # Output: blue\n"
      ],
      "metadata": {
        "colab": {
          "base_uri": "https://localhost:8080/"
        },
        "id": "LZ1ZtRSYrWbG",
        "outputId": "9d94a632-3880-42bd-d3ff-cb5b365ffc77"
      },
      "execution_count": 13,
      "outputs": [
        {
          "output_type": "stream",
          "name": "stdout",
          "text": [
            "blue\n"
          ]
        }
      ]
    },
    {
      "cell_type": "markdown",
      "source": [
        "13. Find the minimum number in the tuple (10, 20, 5, 15)"
      ],
      "metadata": {
        "id": "5-gSRkyQrdcq"
      }
    },
    {
      "cell_type": "markdown",
      "source": [
        "Ans-->>"
      ],
      "metadata": {
        "id": "5nAFgeUyrgVu"
      }
    },
    {
      "cell_type": "code",
      "source": [
        "t = (10, 20, 5, 15)\n",
        "print(min(t))  # Output: 5\n"
      ],
      "metadata": {
        "colab": {
          "base_uri": "https://localhost:8080/"
        },
        "id": "u8So2ZppriD0",
        "outputId": "93d3e952-5f7b-49a4-d1f9-3f622e44e978"
      },
      "execution_count": 14,
      "outputs": [
        {
          "output_type": "stream",
          "name": "stdout",
          "text": [
            "5\n"
          ]
        }
      ]
    },
    {
      "cell_type": "markdown",
      "source": [
        "14. Find the index of the element \"cat\" in the tuple ('dog', 'cat', 'rabbit')"
      ],
      "metadata": {
        "id": "2Ly7wzLQrj_d"
      }
    },
    {
      "cell_type": "markdown",
      "source": [
        "Ans--->>"
      ],
      "metadata": {
        "id": "ofWYnD_Ern3E"
      }
    },
    {
      "cell_type": "code",
      "source": [
        "animals = ('dog', 'cat', 'rabbit')\n",
        "print(animals.index('cat'))  # Output: 1\n"
      ],
      "metadata": {
        "colab": {
          "base_uri": "https://localhost:8080/"
        },
        "id": "CTpH395wrp7M",
        "outputId": "49aebeb7-aee1-4439-e436-e610859558d5"
      },
      "execution_count": 16,
      "outputs": [
        {
          "output_type": "stream",
          "name": "stdout",
          "text": [
            "1\n"
          ]
        }
      ]
    },
    {
      "cell_type": "markdown",
      "source": [
        "15. Create a tuple with three fruits and check if \"kiwi\" is in it"
      ],
      "metadata": {
        "id": "OafYocpOrshl"
      }
    },
    {
      "cell_type": "markdown",
      "source": [
        "Ans--->>"
      ],
      "metadata": {
        "id": "hIWgB00Irvwy"
      }
    },
    {
      "cell_type": "code",
      "source": [
        "fruits = ('apple', 'banana', 'mango')\n",
        "print('kiwi' in fruits)  # Output: False\n"
      ],
      "metadata": {
        "colab": {
          "base_uri": "https://localhost:8080/"
        },
        "id": "jcWeqnWerxlw",
        "outputId": "85a655cd-f670-4ce4-ab21-a430d12f9c56"
      },
      "execution_count": 15,
      "outputs": [
        {
          "output_type": "stream",
          "name": "stdout",
          "text": [
            "False\n"
          ]
        }
      ]
    },
    {
      "cell_type": "markdown",
      "source": [
        "16. Create a set with elements 'a', 'b', 'c' and print it"
      ],
      "metadata": {
        "id": "Ot9ouyMLr0hL"
      }
    },
    {
      "cell_type": "markdown",
      "source": [
        "Ans-->>"
      ],
      "metadata": {
        "id": "3df7TvQAr5I7"
      }
    },
    {
      "cell_type": "code",
      "source": [
        "s = {'a', 'b', 'c'}\n",
        "print(s)\n"
      ],
      "metadata": {
        "colab": {
          "base_uri": "https://localhost:8080/"
        },
        "id": "w2VICzyor7zb",
        "outputId": "0645d698-ef79-4c49-9a55-b2d877e1bf3f"
      },
      "execution_count": 17,
      "outputs": [
        {
          "output_type": "stream",
          "name": "stdout",
          "text": [
            "{'b', 'c', 'a'}\n"
          ]
        }
      ]
    },
    {
      "cell_type": "markdown",
      "source": [
        "17. Clear all elements from the set {1, 2, 3, 4, 5}"
      ],
      "metadata": {
        "id": "YHC8Fkz4sAM2"
      }
    },
    {
      "cell_type": "markdown",
      "source": [
        "Ans-->>"
      ],
      "metadata": {
        "id": "3MWto5YPsGje"
      }
    },
    {
      "cell_type": "code",
      "source": [
        "s = {1, 2, 3, 4, 5}\n",
        "s.clear()\n",
        "print(s)  # Output: set()\n"
      ],
      "metadata": {
        "colab": {
          "base_uri": "https://localhost:8080/"
        },
        "id": "5YJJnvnfsIHs",
        "outputId": "ba43245a-a20c-40bc-a04a-932f6011ed10"
      },
      "execution_count": 18,
      "outputs": [
        {
          "output_type": "stream",
          "name": "stdout",
          "text": [
            "set()\n"
          ]
        }
      ]
    },
    {
      "cell_type": "markdown",
      "source": [
        "18. Remove the element 4 from the set {1, 2, 3, 4}"
      ],
      "metadata": {
        "id": "zAJP3wpnsLo3"
      }
    },
    {
      "cell_type": "markdown",
      "source": [
        "Ans--->>"
      ],
      "metadata": {
        "id": "I_0ck370sQlC"
      }
    },
    {
      "cell_type": "code",
      "source": [
        "s = {1, 2, 3, 4}\n",
        "s.remove(4)\n",
        "print(s)  # Output: {1, 2, 3}\n"
      ],
      "metadata": {
        "colab": {
          "base_uri": "https://localhost:8080/"
        },
        "id": "dfuwBc82sSxK",
        "outputId": "dc84c0b4-db55-46a9-c8cb-c116ad8c49f2"
      },
      "execution_count": 19,
      "outputs": [
        {
          "output_type": "stream",
          "name": "stdout",
          "text": [
            "{1, 2, 3}\n"
          ]
        }
      ]
    },
    {
      "cell_type": "markdown",
      "source": [
        "19. Find the union of sets {1, 2, 3} and {3, 4, 5}"
      ],
      "metadata": {
        "id": "spQ_N3VmsXDd"
      }
    },
    {
      "cell_type": "markdown",
      "source": [
        "Ans-->>"
      ],
      "metadata": {
        "id": "mSTq-dj0sZ4M"
      }
    },
    {
      "cell_type": "code",
      "source": [
        "a = {1, 2, 3}\n",
        "b = {3, 4, 5}\n",
        "print(a.union(b))  # Output: {1, 2, 3, 4, 5}\n"
      ],
      "metadata": {
        "colab": {
          "base_uri": "https://localhost:8080/"
        },
        "id": "GSh9ZDQosbUP",
        "outputId": "04a68aab-05b0-4abb-fdd0-65bd5fcd8cf0"
      },
      "execution_count": 20,
      "outputs": [
        {
          "output_type": "stream",
          "name": "stdout",
          "text": [
            "{1, 2, 3, 4, 5}\n"
          ]
        }
      ]
    },
    {
      "cell_type": "markdown",
      "source": [
        "20. Find the intersection of sets {1, 2, 3} and {2, 3, 4}"
      ],
      "metadata": {
        "id": "SX8FrRujse7o"
      }
    },
    {
      "cell_type": "markdown",
      "source": [
        "Ans-->>"
      ],
      "metadata": {
        "id": "ytH9AbdMsi5V"
      }
    },
    {
      "cell_type": "code",
      "source": [
        "a = {1, 2, 3}\n",
        "b = {2, 3, 4}\n",
        "print(a.intersection(b))  # Output: {2, 3}\n"
      ],
      "metadata": {
        "colab": {
          "base_uri": "https://localhost:8080/"
        },
        "id": "OnYU6Mn5skiy",
        "outputId": "582f376a-0ba3-4c1d-c0e9-0da4ab575ca8"
      },
      "execution_count": 21,
      "outputs": [
        {
          "output_type": "stream",
          "name": "stdout",
          "text": [
            "{2, 3}\n"
          ]
        }
      ]
    },
    {
      "cell_type": "markdown",
      "source": [
        "21. Create a dictionary with keys \"name\", \"age\", and \"city\", and print it\n",
        "\n",
        "\n"
      ],
      "metadata": {
        "id": "F0gcsvvQsnBk"
      }
    },
    {
      "cell_type": "markdown",
      "source": [
        "Ans--->>"
      ],
      "metadata": {
        "id": "3INEDMXassEw"
      }
    },
    {
      "cell_type": "code",
      "source": [
        "info = {\"name\": \"Adarsh\", \"age\": 22, \"city\": \"Indore\"}\n",
        "print(info)\n"
      ],
      "metadata": {
        "colab": {
          "base_uri": "https://localhost:8080/"
        },
        "id": "4VBqa6azsuKT",
        "outputId": "36d10a96-f77b-49f2-946f-ee656fa947b3"
      },
      "execution_count": 22,
      "outputs": [
        {
          "output_type": "stream",
          "name": "stdout",
          "text": [
            "{'name': 'Adarsh', 'age': 22, 'city': 'Indore'}\n"
          ]
        }
      ]
    },
    {
      "cell_type": "markdown",
      "source": [
        "22. Add \"country\": \"USA\" to {'name': 'John', 'age': 25}"
      ],
      "metadata": {
        "id": "_QV-rgxHsxJU"
      }
    },
    {
      "cell_type": "markdown",
      "source": [
        "Ans-->>>"
      ],
      "metadata": {
        "id": "4wYveT2ss2Fs"
      }
    },
    {
      "cell_type": "code",
      "source": [
        "d = {'name': 'John', 'age': 25}\n",
        "d['country'] = 'USA'\n",
        "print(d)\n"
      ],
      "metadata": {
        "colab": {
          "base_uri": "https://localhost:8080/"
        },
        "id": "1ElRasOKs3fq",
        "outputId": "464db31b-9347-43dc-8d13-afac3d8bb19a"
      },
      "execution_count": 23,
      "outputs": [
        {
          "output_type": "stream",
          "name": "stdout",
          "text": [
            "{'name': 'John', 'age': 25, 'country': 'USA'}\n"
          ]
        }
      ]
    },
    {
      "cell_type": "markdown",
      "source": [
        "23. Access the value of key \"name\" in {'name': 'Alice', 'age': 30}"
      ],
      "metadata": {
        "id": "cdqMagmxs6-d"
      }
    },
    {
      "cell_type": "markdown",
      "source": [
        "Ans-->>"
      ],
      "metadata": {
        "id": "ntZgDtN5s_Za"
      }
    },
    {
      "cell_type": "code",
      "source": [
        "d = {'name': 'Alice', 'age': 30}\n",
        "print(d['name'])  # Output: Alice\n"
      ],
      "metadata": {
        "colab": {
          "base_uri": "https://localhost:8080/"
        },
        "id": "eLrhXUaVtAwR",
        "outputId": "dabb2270-0360-4793-edeb-c88fc463c18b"
      },
      "execution_count": 24,
      "outputs": [
        {
          "output_type": "stream",
          "name": "stdout",
          "text": [
            "Alice\n"
          ]
        }
      ]
    },
    {
      "cell_type": "markdown",
      "source": [
        "24. Remove the key \"age\" from {'name': 'Bob', 'age': 22, 'city': 'New York'}"
      ],
      "metadata": {
        "id": "ZRZ9VDj5tDUS"
      }
    },
    {
      "cell_type": "markdown",
      "source": [
        "Ans--->>"
      ],
      "metadata": {
        "id": "8m-XiwoUtHuE"
      }
    },
    {
      "cell_type": "code",
      "source": [
        "d = {'name': 'Bob', 'age': 22, 'city': 'New York'}\n",
        "del d['age']\n",
        "print(d)\n"
      ],
      "metadata": {
        "colab": {
          "base_uri": "https://localhost:8080/"
        },
        "id": "oNjPc-wNtJJu",
        "outputId": "6d848904-ddae-4c89-aa71-733242efecaf"
      },
      "execution_count": 25,
      "outputs": [
        {
          "output_type": "stream",
          "name": "stdout",
          "text": [
            "{'name': 'Bob', 'city': 'New York'}\n"
          ]
        }
      ]
    },
    {
      "cell_type": "markdown",
      "source": [
        "25. Check if \"city\" exists in {'name': 'Alice', 'city': 'Paris'}\n",
        "\n",
        "\n"
      ],
      "metadata": {
        "id": "2HYnfggitRrJ"
      }
    },
    {
      "cell_type": "markdown",
      "source": [
        "Ans-->>"
      ],
      "metadata": {
        "id": "VHBK3yoWtUe_"
      }
    },
    {
      "cell_type": "code",
      "source": [
        "d = {'name': 'Alice', 'city': 'Paris'}\n",
        "print('city' in d)  # Output: True\n"
      ],
      "metadata": {
        "colab": {
          "base_uri": "https://localhost:8080/"
        },
        "id": "So0aI5AItV5j",
        "outputId": "8e7bbf5d-523b-4031-fb23-08f85bd711f0"
      },
      "execution_count": 26,
      "outputs": [
        {
          "output_type": "stream",
          "name": "stdout",
          "text": [
            "True\n"
          ]
        }
      ]
    },
    {
      "cell_type": "markdown",
      "source": [
        "26. Create a list, tuple, and dictionary, and print them all"
      ],
      "metadata": {
        "id": "pt2CGyIxtZKN"
      }
    },
    {
      "cell_type": "markdown",
      "source": [
        "Ans-->>"
      ],
      "metadata": {
        "id": "zLUPfhJhteMM"
      }
    },
    {
      "cell_type": "code",
      "source": [
        "lst = [1, 2, 3]\n",
        "tup = (4, 5, 6)\n",
        "dic = {'a': 1, 'b': 2}\n",
        "print(lst, tup, dic)\n"
      ],
      "metadata": {
        "colab": {
          "base_uri": "https://localhost:8080/"
        },
        "id": "Vf233DxEtfog",
        "outputId": "3b870036-3d45-47b9-b673-641ec81e48d6"
      },
      "execution_count": 27,
      "outputs": [
        {
          "output_type": "stream",
          "name": "stdout",
          "text": [
            "[1, 2, 3] (4, 5, 6) {'a': 1, 'b': 2}\n"
          ]
        }
      ]
    },
    {
      "cell_type": "markdown",
      "source": [
        "27. Create a list of 5 random numbers between 1 and 100, sort it, and print"
      ],
      "metadata": {
        "id": "V8XSbjDXtiUe"
      }
    },
    {
      "cell_type": "markdown",
      "source": [
        "Ans--->>"
      ],
      "metadata": {
        "id": "9gc9ulo-tnYu"
      }
    },
    {
      "cell_type": "code",
      "source": [
        "import random\n",
        "numbers = random.sample(range(1, 101), 5)\n",
        "numbers.sort()\n",
        "print(numbers)\n"
      ],
      "metadata": {
        "colab": {
          "base_uri": "https://localhost:8080/"
        },
        "id": "0T1G5RSotpJM",
        "outputId": "a59260a3-83b7-4404-a22c-588c51327c22"
      },
      "execution_count": 28,
      "outputs": [
        {
          "output_type": "stream",
          "name": "stdout",
          "text": [
            "[8, 38, 52, 56, 87]\n"
          ]
        }
      ]
    },
    {
      "cell_type": "markdown",
      "source": [
        "28. Create a list with strings and print the element at the third index\n",
        "\n"
      ],
      "metadata": {
        "id": "mNQir4aqts4b"
      }
    },
    {
      "cell_type": "markdown",
      "source": [
        "Ans--->>"
      ],
      "metadata": {
        "id": "JbqPE2iVtwgB"
      }
    },
    {
      "cell_type": "code",
      "source": [
        "words = ['apple', 'banana', 'cherry', 'date', 'fig']\n",
        "print(words[3])  # Output: date\n"
      ],
      "metadata": {
        "colab": {
          "base_uri": "https://localhost:8080/"
        },
        "id": "MTr7HdDrtyOz",
        "outputId": "f1fbce62-46a7-421d-962a-7eb489d03d48"
      },
      "execution_count": 29,
      "outputs": [
        {
          "output_type": "stream",
          "name": "stdout",
          "text": [
            "date\n"
          ]
        }
      ]
    },
    {
      "cell_type": "markdown",
      "source": [
        "29. Combine two dictionaries and print the result\n",
        "\n"
      ],
      "metadata": {
        "id": "__raSBxut2yO"
      }
    },
    {
      "cell_type": "markdown",
      "source": [
        "Ans--->>"
      ],
      "metadata": {
        "id": "9CDBtUWIt7jy"
      }
    },
    {
      "cell_type": "code",
      "source": [
        "d1 = {'a': 1, 'b': 2}\n",
        "d2 = {'c': 3, 'd': 4}\n",
        "combined = {**d1, **d2}\n",
        "print(combined)\n"
      ],
      "metadata": {
        "colab": {
          "base_uri": "https://localhost:8080/"
        },
        "id": "mmBP8UbTt9Di",
        "outputId": "641de75c-9d79-4192-9559-a423eb39f8e7"
      },
      "execution_count": 30,
      "outputs": [
        {
          "output_type": "stream",
          "name": "stdout",
          "text": [
            "{'a': 1, 'b': 2, 'c': 3, 'd': 4}\n"
          ]
        }
      ]
    },
    {
      "cell_type": "markdown",
      "source": [
        "30. Convert a list of strings into a set"
      ],
      "metadata": {
        "id": "AqvedQGnuBNT"
      }
    },
    {
      "cell_type": "markdown",
      "source": [
        "Ans-->>"
      ],
      "metadata": {
        "id": "Auo2zGatuENy"
      }
    },
    {
      "cell_type": "code",
      "source": [
        "lst = ['apple', 'banana', 'apple', 'cherry']\n",
        "s = set(lst)\n",
        "print(s)  # Duplicates removed\n"
      ],
      "metadata": {
        "colab": {
          "base_uri": "https://localhost:8080/"
        },
        "id": "3AOvTSQXuF_r",
        "outputId": "98598b59-9a50-4d15-aad0-20398020bf21"
      },
      "execution_count": 31,
      "outputs": [
        {
          "output_type": "stream",
          "name": "stdout",
          "text": [
            "{'apple', 'banana', 'cherry'}\n"
          ]
        }
      ]
    }
  ]
}